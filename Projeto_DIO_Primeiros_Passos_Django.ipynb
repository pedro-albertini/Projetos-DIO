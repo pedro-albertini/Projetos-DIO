{
  "nbformat": 4,
  "nbformat_minor": 0,
  "metadata": {
    "colab": {
      "provenance": [],
      "authorship_tag": "ABX9TyPehIynzGENNRrpVoAmn5Wh",
      "include_colab_link": true
    },
    "kernelspec": {
      "name": "python3",
      "display_name": "Python 3"
    },
    "language_info": {
      "name": "python"
    }
  },
  "cells": [
    {
      "cell_type": "markdown",
      "metadata": {
        "id": "view-in-github",
        "colab_type": "text"
      },
      "source": [
        "<a href=\"https://colab.research.google.com/github/pedro-albertini/Projetos-DIO/blob/main/Projeto_DIO_Primeiros_Passos_Django.ipynb\" target=\"_parent\"><img src=\"https://colab.research.google.com/assets/colab-badge.svg\" alt=\"Open In Colab\"/></a>"
      ]
    },
    {
      "cell_type": "markdown",
      "source": [
        "intalação django"
      ],
      "metadata": {
        "id": "16JrAWjdYnZh"
      }
    },
    {
      "cell_type": "code",
      "source": [
        "!pip install o django"
      ],
      "metadata": {
        "id": "BzrVaO1KYtYZ"
      },
      "execution_count": null,
      "outputs": []
    },
    {
      "cell_type": "markdown",
      "source": [
        "criar um novo projeto"
      ],
      "metadata": {
        "id": "i-Q95norYh-x"
      }
    },
    {
      "cell_type": "code",
      "execution_count": 2,
      "metadata": {
        "id": "HdI32ljJIb_d"
      },
      "outputs": [],
      "source": [
        "!django-admin startproject portifolio"
      ]
    },
    {
      "cell_type": "markdown",
      "source": [
        "acessar o projeto"
      ],
      "metadata": {
        "id": "bdmvZO61yDWI"
      }
    },
    {
      "cell_type": "code",
      "source": [
        "%cd portifolio/"
      ],
      "metadata": {
        "id": "luhtqZFkp7bi"
      },
      "execution_count": null,
      "outputs": []
    },
    {
      "cell_type": "markdown",
      "source": [
        "fornecer uma porta para o codigo, com isso o link para acessar o servidor da maquina local"
      ],
      "metadata": {
        "id": "vaDwv5inyHYI"
      }
    },
    {
      "cell_type": "code",
      "source": [
        "from google.colab.output import eval_js\n",
        "print(eval_js(\"google.colab.kernel.proxyPort(8000)\"))"
      ],
      "metadata": {
        "id": "22tUZ3_L9LlI"
      },
      "execution_count": null,
      "outputs": []
    },
    {
      "cell_type": "markdown",
      "source": [
        "precisamos adiciona-lo aqui, pois não pode se conectar diretamente ao servidor de desenvolvimento"
      ],
      "metadata": {
        "id": "tUegP7j1y8U4"
      }
    },
    {
      "cell_type": "code",
      "source": [
        "ALLOWED_HOSTS = ['colab.research.google.com']"
      ],
      "metadata": {
        "id": "4CsoLoTnzioG"
      },
      "execution_count": 5,
      "outputs": []
    },
    {
      "cell_type": "markdown",
      "source": [
        "executar o servidor, e acesse ele usando o link do metodo eval_js"
      ],
      "metadata": {
        "id": "FplzGo2Jzh54"
      }
    },
    {
      "cell_type": "code",
      "source": [
        "!python manage.py runserver 8000"
      ],
      "metadata": {
        "id": "PD2AtNhBztXJ"
      },
      "execution_count": null,
      "outputs": []
    }
  ]
}