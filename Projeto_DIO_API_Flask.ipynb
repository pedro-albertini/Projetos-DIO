{
  "nbformat": 4,
  "nbformat_minor": 0,
  "metadata": {
    "colab": {
      "provenance": [],
      "authorship_tag": "ABX9TyMspjFdUF7tiK5N5PswlXEp",
      "include_colab_link": true
    },
    "kernelspec": {
      "name": "python3",
      "display_name": "Python 3"
    },
    "language_info": {
      "name": "python"
    }
  },
  "cells": [
    {
      "cell_type": "markdown",
      "metadata": {
        "id": "view-in-github",
        "colab_type": "text"
      },
      "source": [
        "<a href=\"https://colab.research.google.com/github/pedro-albertini/Projetos-DIO/blob/main/Projeto_DIO_API_Flask.ipynb\" target=\"_parent\"><img src=\"https://colab.research.google.com/assets/colab-badge.svg\" alt=\"Open In Colab\"/></a>"
      ]
    },
    {
      "cell_type": "code",
      "execution_count": null,
      "metadata": {
        "id": "cMr8CCAO8rI_"
      },
      "outputs": [],
      "source": [
        "!pip install flask_ngrok"
      ]
    },
    {
      "cell_type": "markdown",
      "source": [
        "importando as bibliotecas"
      ],
      "metadata": {
        "id": "auhFqwch90Tc"
      }
    },
    {
      "cell_type": "code",
      "source": [
        "import pandas as pd\n",
        "from flask_ngrok import run_with_ngrok\n",
        "from flask import request, jsonify, Flask\n",
        "import random as r"
      ],
      "metadata": {
        "id": "b-u4JfSX90q6"
      },
      "execution_count": 2,
      "outputs": []
    },
    {
      "cell_type": "code",
      "source": [
        "app = Flask(__name__) #nome aplicação\n",
        "run_with_ngrok(app)"
      ],
      "metadata": {
        "id": "yk8W4qdX-tki"
      },
      "execution_count": 3,
      "outputs": []
    },
    {
      "cell_type": "code",
      "source": [
        "d = {\n",
        "    \"nome\": \"Gustavo\",\n",
        "    \"sobrenome\": \"lima\",\n",
        "    \"idade\": 34\n",
        "}"
      ],
      "metadata": {
        "id": "cxwa8SiD_VER"
      },
      "execution_count": 4,
      "outputs": []
    },
    {
      "cell_type": "markdown",
      "source": [
        "'/input' no final da url para descobrir a entrada e '/output' para descobrir a saida"
      ],
      "metadata": {
        "id": "L-ndcR_0APWo"
      }
    },
    {
      "cell_type": "code",
      "source": [
        "@app.route(\"/input\")\n",
        "\n",
        "def input():\n",
        "  return jsonify(d)"
      ],
      "metadata": {
        "id": "49hjH7G9AdZW"
      },
      "execution_count": 9,
      "outputs": []
    },
    {
      "cell_type": "markdown",
      "source": [
        "GET - solicitar dados, POST - enviar dados"
      ],
      "metadata": {
        "id": "FyCkxfffBkjC"
      }
    },
    {
      "cell_type": "code",
      "source": [
        "@app.route('/output', methods=['GET', 'POST'])\n",
        "\n",
        "def predJson():\n",
        "  pred = r.choice([\"positive\", \"negative\"])\n",
        "  nd = d\n",
        "  nd[\"prediction\"] = pred\n",
        "  return jsonify(nd)\n",
        "\n",
        "app.run()"
      ],
      "metadata": {
        "id": "UGgZqR4yAv68"
      },
      "execution_count": null,
      "outputs": []
    }
  ]
}